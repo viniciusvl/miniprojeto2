{
 "cells": [
  {
   "cell_type": "markdown",
   "metadata": {},
   "source": [
    "# Extração de Features e Construção do Modelo"
   ]
  },
  {
   "cell_type": "markdown",
   "metadata": {},
   "source": [
    "### 1. Introdução a Extração de Features\n",
    "- A extração de features é uma parte muito importante na análise e na identificação de relações entre diferentes elementos. Como já sabemos, os dados de áudio não podem ser compreendidos diretamente pelos modelos, então precisamos convertê-los para um formato inteligível, e é para isso que a extração de features é utilizada.\n"
   ]
  },
  {
   "cell_type": "markdown",
   "metadata": {},
   "source": [
    "#### Com a taxa de amostragem e os dados do sinal, podemos realizar diversas transformações para extrair características valiosas do áudio. No entanto, neste projeto, não vamos aprofundar no processo de seleção de features para identificar quais são mais relevantes para o nosso dataset. Em vez disso, vamos extrair cinco features principais para treinar nosso modelo:\n",
    "- **Zero Crossing Rate (ZCR):** Mede a taxa de mudanças de sinal no áudio, ou seja, quantas vezes ele cruza o eixo zero em um determinado intervalo de tempo. Essa feature é útil para distinguir sons percussivos e não percussivos.\n",
    "- **Chroma STFT:** Representa a energia espectral em 12 bins correspondentes às notas da escala musical ocidental. Essa característica é útil para identificar padrões harmônicos no áudio.\n",
    "- **MFCC (Mel-Frequency Cepstral Coefficients):** Converte a frequência do áudio para a escala mel, aproximando-se da percepção auditiva humana. É uma das features mais utilizadas em reconhecimento de fala e emoção.\n",
    "- **RMS (Root Mean Square):** Mede a energia do sinal ao calcular a média quadrática das amplitudes do áudio. Essa feature ajuda a representar a intensidade do som.\n",
    "- **Mel Spectrogram:** Representa a distribuição de energia do áudio em diferentes faixas de frequência na escala mel, capturando informações espectrais essenciais."
   ]
  },
  {
   "cell_type": "markdown",
   "metadata": {},
   "source": [
    "### 1.1. Importando as bibliotecas"
   ]
  },
  {
   "cell_type": "code",
   "execution_count": 1,
   "metadata": {},
   "outputs": [
    {
     "name": "stderr",
     "output_type": "stream",
     "text": [
      "2025-05-01 15:13:34.126022: I external/local_xla/xla/tsl/cuda/cudart_stub.cc:32] Could not find cuda drivers on your machine, GPU will not be used.\n",
      "2025-05-01 15:13:34.129706: I external/local_xla/xla/tsl/cuda/cudart_stub.cc:32] Could not find cuda drivers on your machine, GPU will not be used.\n",
      "2025-05-01 15:13:34.141013: E external/local_xla/xla/stream_executor/cuda/cuda_fft.cc:467] Unable to register cuFFT factory: Attempting to register factory for plugin cuFFT when one has already been registered\n",
      "WARNING: All log messages before absl::InitializeLog() is called are written to STDERR\n",
      "E0000 00:00:1746123214.159856    9868 cuda_dnn.cc:8579] Unable to register cuDNN factory: Attempting to register factory for plugin cuDNN when one has already been registered\n",
      "E0000 00:00:1746123214.165343    9868 cuda_blas.cc:1407] Unable to register cuBLAS factory: Attempting to register factory for plugin cuBLAS when one has already been registered\n",
      "W0000 00:00:1746123214.179752    9868 computation_placer.cc:177] computation placer already registered. Please check linkage and avoid linking the same target more than once.\n",
      "W0000 00:00:1746123214.179774    9868 computation_placer.cc:177] computation placer already registered. Please check linkage and avoid linking the same target more than once.\n",
      "W0000 00:00:1746123214.179776    9868 computation_placer.cc:177] computation placer already registered. Please check linkage and avoid linking the same target more than once.\n",
      "W0000 00:00:1746123214.179777    9868 computation_placer.cc:177] computation placer already registered. Please check linkage and avoid linking the same target more than once.\n",
      "2025-05-01 15:13:34.184738: I tensorflow/core/platform/cpu_feature_guard.cc:210] This TensorFlow binary is optimized to use available CPU instructions in performance-critical operations.\n",
      "To enable the following instructions: AVX2 FMA, in other operations, rebuild TensorFlow with the appropriate compiler flags.\n"
     ]
    }
   ],
   "source": [
    "import pandas as pd\n",
    "import numpy as np\n",
    "\n",
    "import pickle\n",
    "import os\n",
    "import sys\n",
    "\n",
    "import librosa\n",
    "import librosa.display\n",
    "import seaborn as sns\n",
    "import matplotlib.pyplot as plt\n",
    "\n",
    "from sklearn.preprocessing import StandardScaler, OneHotEncoder\n",
    "from sklearn.metrics import confusion_matrix, classification_report\n",
    "from sklearn.model_selection import train_test_split\n",
    "\n",
    "from IPython.display import Audio\n",
    "\n",
    "import keras\n",
    "from keras.callbacks import ReduceLROnPlateau\n",
    "from keras.models import Sequential\n",
    "from keras.layers import Dense, Conv1D, MaxPooling1D, Flatten, Dropout, BatchNormalization\n",
    "from keras.utils import to_categorical\n",
    "from keras.callbacks import ModelCheckpoint\n",
    "\n",
    "import warnings\n",
    "if not sys.warnoptions:\n",
    "    warnings.simplefilter(\"ignore\")\n",
    "warnings.filterwarnings(\"ignore\", category=DeprecationWarning) "
   ]
  },
  {
   "cell_type": "markdown",
   "metadata": {},
   "source": [
    "### 1.2. Carregar o Dataframe da EDA "
   ]
  },
  {
   "cell_type": "code",
   "execution_count": 28,
   "metadata": {},
   "outputs": [],
   "source": [
    "data_path = \"/home/vinicius/Desktop/miniprojeto2/data/ravdess_preprocessed.csv\" \n",
    "df = pd.read_csv(data_path)"
   ]
  },
  {
   "cell_type": "code",
   "execution_count": 29,
   "metadata": {},
   "outputs": [
    {
     "data": {
      "text/html": [
       "<div>\n",
       "<style scoped>\n",
       "    .dataframe tbody tr th:only-of-type {\n",
       "        vertical-align: middle;\n",
       "    }\n",
       "\n",
       "    .dataframe tbody tr th {\n",
       "        vertical-align: top;\n",
       "    }\n",
       "\n",
       "    .dataframe thead th {\n",
       "        text-align: right;\n",
       "    }\n",
       "</style>\n",
       "<table border=\"1\" class=\"dataframe\">\n",
       "  <thead>\n",
       "    <tr style=\"text-align: right;\">\n",
       "      <th></th>\n",
       "      <th>Emotions</th>\n",
       "      <th>Path</th>\n",
       "      <th>Processed_Path</th>\n",
       "    </tr>\n",
       "  </thead>\n",
       "  <tbody>\n",
       "    <tr>\n",
       "      <th>1435</th>\n",
       "      <td>disgust</td>\n",
       "      <td>/home/vinicius/Desktop/miniprojeto2/raw/Actor_...</td>\n",
       "      <td>/home/vinicius/Desktop/miniprojeto2/data/proce...</td>\n",
       "    </tr>\n",
       "    <tr>\n",
       "      <th>1436</th>\n",
       "      <td>surprise</td>\n",
       "      <td>/home/vinicius/Desktop/miniprojeto2/raw/Actor_...</td>\n",
       "      <td>/home/vinicius/Desktop/miniprojeto2/data/proce...</td>\n",
       "    </tr>\n",
       "    <tr>\n",
       "      <th>1437</th>\n",
       "      <td>sad</td>\n",
       "      <td>/home/vinicius/Desktop/miniprojeto2/raw/Actor_...</td>\n",
       "      <td>/home/vinicius/Desktop/miniprojeto2/data/proce...</td>\n",
       "    </tr>\n",
       "    <tr>\n",
       "      <th>1438</th>\n",
       "      <td>happy</td>\n",
       "      <td>/home/vinicius/Desktop/miniprojeto2/raw/Actor_...</td>\n",
       "      <td>/home/vinicius/Desktop/miniprojeto2/data/proce...</td>\n",
       "    </tr>\n",
       "    <tr>\n",
       "      <th>1439</th>\n",
       "      <td>calm</td>\n",
       "      <td>/home/vinicius/Desktop/miniprojeto2/raw/Actor_...</td>\n",
       "      <td>/home/vinicius/Desktop/miniprojeto2/data/proce...</td>\n",
       "    </tr>\n",
       "  </tbody>\n",
       "</table>\n",
       "</div>"
      ],
      "text/plain": [
       "      Emotions                                               Path  \\\n",
       "1435   disgust  /home/vinicius/Desktop/miniprojeto2/raw/Actor_...   \n",
       "1436  surprise  /home/vinicius/Desktop/miniprojeto2/raw/Actor_...   \n",
       "1437       sad  /home/vinicius/Desktop/miniprojeto2/raw/Actor_...   \n",
       "1438     happy  /home/vinicius/Desktop/miniprojeto2/raw/Actor_...   \n",
       "1439      calm  /home/vinicius/Desktop/miniprojeto2/raw/Actor_...   \n",
       "\n",
       "                                         Processed_Path  \n",
       "1435  /home/vinicius/Desktop/miniprojeto2/data/proce...  \n",
       "1436  /home/vinicius/Desktop/miniprojeto2/data/proce...  \n",
       "1437  /home/vinicius/Desktop/miniprojeto2/data/proce...  \n",
       "1438  /home/vinicius/Desktop/miniprojeto2/data/proce...  \n",
       "1439  /home/vinicius/Desktop/miniprojeto2/data/proce...  "
      ]
     },
     "execution_count": 29,
     "metadata": {},
     "output_type": "execute_result"
    }
   ],
   "source": [
    "df.tail()"
   ]
  },
  {
   "cell_type": "markdown",
   "metadata": {},
   "source": [
    "### 2. Criando uma função para extração das features"
   ]
  },
  {
   "cell_type": "markdown",
   "metadata": {},
   "source": [
    "##### Fizemos essa parte no notebook passado, então você pode copiar e colar o código das funções aqui, pois precisaremos delas:"
   ]
  },
  {
   "cell_type": "code",
   "execution_count": 30,
   "metadata": {},
   "outputs": [],
   "source": [
    "def noise(data):\n",
    "    n = np.random.normal(0, data.std(), data.size) # cria um vetor com ruído branco \n",
    "    return data + n # retorna o áudio com ruido\n",
    "\n",
    "def stretch(data, rate=0.8):\n",
    "    return librosa.effects.time_stretch(data, rate=rate) # retonra um áudio com velocidade alterada\n",
    "\n",
    "def shift(data):\n",
    "    return np.roll(data, np.random.random(1, len(data))) # retorna um vetor de audio com os dados deslocados aleatoriamente\n",
    "\n",
    "def pitch(data, sampling_rate, pitch_factor=0.7):\n",
    "    return librosa.effects.pitch_shift(y=data, sr=sampling_rate, n_steps=pitch_factor) # retorna um audio com a frequência alterada\n",
    "\n",
    "# Tomando um áudio qualquer com exemplo\n",
    "path = np.array(df.Path)[1]\n",
    "data, sample_rate = librosa.load(path)"
   ]
  },
  {
   "cell_type": "markdown",
   "metadata": {},
   "source": [
    "##### Aqui você deve extrair essas features de fato... mais tarde você precisará delas :)"
   ]
  },
  {
   "cell_type": "markdown",
   "metadata": {},
   "source": [
    "# **Funções usadas**\n",
    "\n",
    "### **vstack()**: concatena dois arrays numpy por linha e gera uma matriz\n",
    "\n",
    "[1, 2, 3] e [4, 5, 6] -> [[1, 2, 3,]\n",
    "                          [4, 5, 6,]]  \n",
    "\n",
    "### **hstack()**: concatena pela coluna e gera uma matriz.\n",
    "\n",
    "[1, 2, 3] e [4, 5, 6] -> [[1, 2, 3, 4, 5, 6]]  \n",
    "\n",
    "\n",
    "### **zero.crossings()**: calcula quantos ZCR existem em um áudio.  \n",
    "- Retorna um array numpy de **tamanho igual ao vetor de áudio**, em que cada elemento indica se **passou pelo eixo X ou não** \n",
    "- **Parâmetros**: (audio, pad=False), pan=False deixa de contar com o primeiro valor do array audio[0]  \n",
    "  \n",
    "### **chroma_stft()** retorna o espectograma de notas  \n",
    "- **Parâmetros**: (audio, sample rate)\n",
    "- Com o espectograma, é possível descobrir a tonalidade de uma música\n",
    "- Para descobrir quantos existem em um áudio: utilizar a função sum  \n",
    "\n",
    " ### **np.mean()**: Para cada feature, é necessário reduzir sua dimensão, pois a função hstack só aceita arrays com o mesmo numero de linhas (). Para isso, tomamos a média dos valores de cada feature para jogar no ML\n"
   ]
  },
  {
   "cell_type": "markdown",
   "metadata": {},
   "source": [
    "# **Escala mel**: escala que tenta simular numericamente a percepção humana do som\n",
    "- Mudanças de sons em baixa frequência são mais fáceis de serem percebidos, mas mudança em sons de alta frequência quase não percebemos\n",
    "\n",
    "### **.mfcc()**: retorna um áudio em escala mel para cada frame do áudio \n",
    "- **Parâmetros**: (audio, sr, n_mfcc)\n",
    " - **n_mfcc** é a quantidade de dados que iremos tomar sobre o audio na escala mel. Tomamos 13 porque já são suficientes para detectar padrões e é um bom número para treinar modelos de machine learning com desempenho  \n",
    "\n",
    "### **.melspectogram()**: retorna um array com o espectograma do áudio em escala mel\n"
   ]
  },
  {
   "cell_type": "code",
   "execution_count": 31,
   "metadata": {},
   "outputs": [],
   "source": [
    "def extract_features(data, sample_rate): \n",
    "    result = np.array([])\n",
    "    # zcr\n",
    "    zcr = np.mean(librosa.feature.zero_crossing_rate(y=data, pad=False), axis=1)\n",
    "    result = np.hstack((result, zcr))\n",
    "\n",
    "    # Chroma_stft\n",
    "    chroma_stft = np.mean(librosa.feature.chroma_stft(y=data, sr=sample_rate), axis=1)\n",
    "    result = np.hstack((result, chroma_stft)) \n",
    "\n",
    "    # MFCC\n",
    "    mfcc = np.mean(librosa.feature.mfcc(y=data, sr=sample_rate), axis=1) # n_mfcc = 20, pois com 20 amostras já é possível detectar padrões no áudio \n",
    "    result = np.hstack((result, mfcc))\n",
    "\n",
    "    # Root Mean Square Value\n",
    "    rms = np.mean(librosa.feature.rms(y=data, frame_length=2048, hop_length=512), axis=1)\n",
    "    result = np.hstack((result, rms))\n",
    "\n",
    "    # MelSpectrogram\n",
    "    mel = np.mean(librosa.feature.melspectrogram(y=data, sr = sample_rate), axis=1)\n",
    "    result = np.hstack((result, mel))\n",
    "    \n",
    "    return result # retorna um array com 1x162, em que cada coluna é o dado de uma feaure \n",
    "\n",
    "def get_features(path):\n",
    "    # Carregar áudio\n",
    "    data, sample_rate = librosa.load(path, duration=2.5, offset=0.6)\n",
    "\n",
    "    # Sem aumento de dados\n",
    "    res1 = extract_features(data, sample_rate)  \n",
    "    result = np.array(res1)\n",
    "\n",
    "    # Com ruído\n",
    "    noise_data = noise(data) # aplica áudio com ruído\n",
    "    res2 = extract_features(noise_data, sample_rate)  \n",
    "    result = np.vstack((result, res2))\n",
    "\n",
    "    # Com alongamento e mudança de pitch\n",
    "    new_data = stretch(data) # altera o tempo\n",
    "    data_stretch_pitch = pitch(new_data, sample_rate) # altera a afinação (pitch) \n",
    "    res3 = extract_features(data_stretch_pitch, sample_rate) \n",
    "    result = np.vstack((result, res3)) # result é o empilhamento de linhas de todos as features\n",
    "    \n",
    "    return result # retorna um array 3x162, em que todas as linhas representam o mesmo áudio e as linhas são as features desse áudio "
   ]
  },
  {
   "cell_type": "markdown",
   "metadata": {},
   "source": [
    "##### Rode as células abaixo"
   ]
  },
  {
   "cell_type": "markdown",
   "metadata": {},
   "source": [
    "## Ideia do código:  \n",
    "   \n",
    "1° Itera em cada linha do dataset capturando o path do áudio e a emoção associada.  \n",
    "\n",
    "2° Chama a função que captura as features de um áudio\n",
    "- A função retorna uma matriz 3x162, em que **a primeira linha é o áudio normal, a segunda é o áudio com ruído e a terceira é o áudio com alteração no pitch+stretch**\n",
    "- As colunas são as 5 features associadas a cada áudio  \n",
    "\n",
    "3° Adiciona cada linha, ou seja, cada **informação sobre a feature** na lista X\n",
    "\n",
    "4° Adiciona a emoção associada a essa feature na lista Y\n",
    "\n",
    "\n",
    "Assim, cada elemento de X se relaciona com sua respectiva emoção salva em Y. Exemplo:  \n",
    "\n",
    "X = [ [1, 2, 3, 4, 5], [4, 3, 1, 6, 7], [7, 8, 6, 4, 1], [4, 3, 2, 1, 5], [12, 34, 66, 88, 11], [32, 14, 53, 67, 12] ]  \n",
    "\n",
    "Y = [ 'fear', 'fear', 'fear', 'happy', 'happy', 'happy']"
   ]
  },
  {
   "cell_type": "code",
   "execution_count": 32,
   "metadata": {},
   "outputs": [],
   "source": [
    "# X salva as features do áudio\n",
    "# Y salva as emoções associadas as features\n",
    "X, Y = [], []\n",
    "\n",
    "# zip retorna uma dupla em que cada elemento é uma dupla: um de path e outro de emotions\n",
    "for path, emotion in zip(df['Path'], df['Emotions']):\n",
    "    feature = get_features(path) # retorna um array 3x162 [ [1, 2, 3, 4, 5], [1, 2, 3, 4, 5], [1, 2, 3, 4, 5] ]\n",
    "\n",
    "    for ele in feature:\n",
    "        X.append(ele)\n",
    "        Y.append(emotion)"
   ]
  },
  {
   "cell_type": "code",
   "execution_count": 33,
   "metadata": {},
   "outputs": [
    {
     "data": {
      "text/plain": [
       "(4320, 4320, (1440,))"
      ]
     },
     "execution_count": 33,
     "metadata": {},
     "output_type": "execute_result"
    }
   ],
   "source": [
    "# essa linha retorna uma tupla que informa o tamanho de X, Y, número de áudios\n",
    "len(X), len(Y), df.Path.shape"
   ]
  },
  {
   "cell_type": "markdown",
   "metadata": {},
   "source": [
    "##### Agora você deverá salvar o csv de features (features.csv)"
   ]
  },
  {
   "cell_type": "markdown",
   "metadata": {},
   "source": [
    "## **Explicação do código**:\n",
    "\n",
    "Após extrair X e Y, temos as informações de cada feature associada a uma única emoção. Agora, a ideia é criar um DataSet em que cada linha contenha as features de um áudio e sua respectiva emoção "
   ]
  },
  {
   "cell_type": "code",
   "execution_count": 34,
   "metadata": {},
   "outputs": [
    {
     "name": "stdout",
     "output_type": "stream",
     "text": [
      "O arquivo foi salvo em: /home/vinicius/Desktop/miniprojeto2/data/features.csv\n"
     ]
    }
   ],
   "source": [
    "# os.path.dirname() retorna o nome de um diretório\n",
    "# os.getcwd() retorna o diretório pai \n",
    "data_dir = os.path.join(os.path.dirname(os.getcwd()), \"data\") # acessa o diretório pai na pasta 'data'\n",
    "os.makedirs(data_dir, exist_ok=True)\n",
    "\n",
    "# armazena a informação de onde será salvo o CSV criado\n",
    "csv_path = os.path.join(data_dir, \"features.csv\")\n",
    "\n",
    "# Crie um DataFrame do pandas chamado Features usando a lista X.\n",
    "Features = pd.DataFrame(X)\n",
    "\n",
    "# Transformando Y em um dataset com uma única coluna\n",
    "labels = pd.DataFrame(Y, columns=['labels'])\n",
    "\n",
    "# Concatenando o dataset labels a features\n",
    "Features = pd.concat([Features, labels], axis=1)\n",
    "\n",
    "# Salve o DataFrame como um arquivo CSV no caminho definido, sem incluir o índice, definindo _index_=False\n",
    "Features.to_csv(csv_path, index=False)\n",
    "\n",
    "\n",
    "print(f\"O arquivo foi salvo em: {csv_path}\")"
   ]
  },
  {
   "cell_type": "code",
   "execution_count": 35,
   "metadata": {},
   "outputs": [
    {
     "data": {
      "text/html": [
       "<div>\n",
       "<style scoped>\n",
       "    .dataframe tbody tr th:only-of-type {\n",
       "        vertical-align: middle;\n",
       "    }\n",
       "\n",
       "    .dataframe tbody tr th {\n",
       "        vertical-align: top;\n",
       "    }\n",
       "\n",
       "    .dataframe thead th {\n",
       "        text-align: right;\n",
       "    }\n",
       "</style>\n",
       "<table border=\"1\" class=\"dataframe\">\n",
       "  <thead>\n",
       "    <tr style=\"text-align: right;\">\n",
       "      <th></th>\n",
       "      <th>0</th>\n",
       "      <th>1</th>\n",
       "      <th>2</th>\n",
       "      <th>3</th>\n",
       "      <th>4</th>\n",
       "      <th>5</th>\n",
       "      <th>6</th>\n",
       "      <th>7</th>\n",
       "      <th>8</th>\n",
       "      <th>9</th>\n",
       "      <th>...</th>\n",
       "      <th>153</th>\n",
       "      <th>154</th>\n",
       "      <th>155</th>\n",
       "      <th>156</th>\n",
       "      <th>157</th>\n",
       "      <th>158</th>\n",
       "      <th>159</th>\n",
       "      <th>160</th>\n",
       "      <th>161</th>\n",
       "      <th>labels</th>\n",
       "    </tr>\n",
       "  </thead>\n",
       "  <tbody>\n",
       "    <tr>\n",
       "      <th>0</th>\n",
       "      <td>0.238449</td>\n",
       "      <td>0.494891</td>\n",
       "      <td>0.474462</td>\n",
       "      <td>0.332266</td>\n",
       "      <td>0.331190</td>\n",
       "      <td>0.339100</td>\n",
       "      <td>0.349193</td>\n",
       "      <td>0.384328</td>\n",
       "      <td>0.450196</td>\n",
       "      <td>0.476845</td>\n",
       "      <td>...</td>\n",
       "      <td>0.001865</td>\n",
       "      <td>0.001613</td>\n",
       "      <td>0.001542</td>\n",
       "      <td>0.001590</td>\n",
       "      <td>0.001572</td>\n",
       "      <td>0.001468</td>\n",
       "      <td>0.001524</td>\n",
       "      <td>0.000913</td>\n",
       "      <td>8.202936e-05</td>\n",
       "      <td>fear</td>\n",
       "    </tr>\n",
       "    <tr>\n",
       "      <th>1</th>\n",
       "      <td>0.414103</td>\n",
       "      <td>0.722722</td>\n",
       "      <td>0.699077</td>\n",
       "      <td>0.628086</td>\n",
       "      <td>0.626512</td>\n",
       "      <td>0.607741</td>\n",
       "      <td>0.535242</td>\n",
       "      <td>0.521779</td>\n",
       "      <td>0.553874</td>\n",
       "      <td>0.571807</td>\n",
       "      <td>...</td>\n",
       "      <td>0.212777</td>\n",
       "      <td>0.196042</td>\n",
       "      <td>0.183440</td>\n",
       "      <td>0.202218</td>\n",
       "      <td>0.192023</td>\n",
       "      <td>0.208727</td>\n",
       "      <td>0.211861</td>\n",
       "      <td>0.202115</td>\n",
       "      <td>1.976549e-01</td>\n",
       "      <td>fear</td>\n",
       "    </tr>\n",
       "    <tr>\n",
       "      <th>2</th>\n",
       "      <td>0.220855</td>\n",
       "      <td>0.373287</td>\n",
       "      <td>0.519008</td>\n",
       "      <td>0.472378</td>\n",
       "      <td>0.315185</td>\n",
       "      <td>0.313234</td>\n",
       "      <td>0.298754</td>\n",
       "      <td>0.275199</td>\n",
       "      <td>0.355760</td>\n",
       "      <td>0.467056</td>\n",
       "      <td>...</td>\n",
       "      <td>0.000564</td>\n",
       "      <td>0.000562</td>\n",
       "      <td>0.000407</td>\n",
       "      <td>0.000377</td>\n",
       "      <td>0.000348</td>\n",
       "      <td>0.000472</td>\n",
       "      <td>0.000338</td>\n",
       "      <td>0.000274</td>\n",
       "      <td>3.435445e-05</td>\n",
       "      <td>fear</td>\n",
       "    </tr>\n",
       "    <tr>\n",
       "      <th>3</th>\n",
       "      <td>0.240148</td>\n",
       "      <td>0.339819</td>\n",
       "      <td>0.357354</td>\n",
       "      <td>0.402665</td>\n",
       "      <td>0.415448</td>\n",
       "      <td>0.486580</td>\n",
       "      <td>0.552078</td>\n",
       "      <td>0.354643</td>\n",
       "      <td>0.349146</td>\n",
       "      <td>0.352472</td>\n",
       "      <td>...</td>\n",
       "      <td>0.002150</td>\n",
       "      <td>0.004248</td>\n",
       "      <td>0.005924</td>\n",
       "      <td>0.004535</td>\n",
       "      <td>0.004361</td>\n",
       "      <td>0.003670</td>\n",
       "      <td>0.002869</td>\n",
       "      <td>0.002482</td>\n",
       "      <td>2.871481e-04</td>\n",
       "      <td>fear</td>\n",
       "    </tr>\n",
       "    <tr>\n",
       "      <th>4</th>\n",
       "      <td>0.417991</td>\n",
       "      <td>0.531086</td>\n",
       "      <td>0.580057</td>\n",
       "      <td>0.617404</td>\n",
       "      <td>0.666578</td>\n",
       "      <td>0.673327</td>\n",
       "      <td>0.742290</td>\n",
       "      <td>0.612915</td>\n",
       "      <td>0.479018</td>\n",
       "      <td>0.448518</td>\n",
       "      <td>...</td>\n",
       "      <td>0.028456</td>\n",
       "      <td>0.032081</td>\n",
       "      <td>0.033845</td>\n",
       "      <td>0.030974</td>\n",
       "      <td>0.034898</td>\n",
       "      <td>0.032986</td>\n",
       "      <td>0.032670</td>\n",
       "      <td>0.031333</td>\n",
       "      <td>3.038724e-02</td>\n",
       "      <td>fear</td>\n",
       "    </tr>\n",
       "    <tr>\n",
       "      <th>...</th>\n",
       "      <td>...</td>\n",
       "      <td>...</td>\n",
       "      <td>...</td>\n",
       "      <td>...</td>\n",
       "      <td>...</td>\n",
       "      <td>...</td>\n",
       "      <td>...</td>\n",
       "      <td>...</td>\n",
       "      <td>...</td>\n",
       "      <td>...</td>\n",
       "      <td>...</td>\n",
       "      <td>...</td>\n",
       "      <td>...</td>\n",
       "      <td>...</td>\n",
       "      <td>...</td>\n",
       "      <td>...</td>\n",
       "      <td>...</td>\n",
       "      <td>...</td>\n",
       "      <td>...</td>\n",
       "      <td>...</td>\n",
       "      <td>...</td>\n",
       "    </tr>\n",
       "    <tr>\n",
       "      <th>4315</th>\n",
       "      <td>0.396860</td>\n",
       "      <td>0.550422</td>\n",
       "      <td>0.565553</td>\n",
       "      <td>0.584306</td>\n",
       "      <td>0.608592</td>\n",
       "      <td>0.554600</td>\n",
       "      <td>0.511907</td>\n",
       "      <td>0.483717</td>\n",
       "      <td>0.459956</td>\n",
       "      <td>0.504071</td>\n",
       "      <td>...</td>\n",
       "      <td>0.047529</td>\n",
       "      <td>0.049611</td>\n",
       "      <td>0.050014</td>\n",
       "      <td>0.048983</td>\n",
       "      <td>0.049046</td>\n",
       "      <td>0.044718</td>\n",
       "      <td>0.044968</td>\n",
       "      <td>0.046421</td>\n",
       "      <td>4.669840e-02</td>\n",
       "      <td>happy</td>\n",
       "    </tr>\n",
       "    <tr>\n",
       "      <th>4316</th>\n",
       "      <td>0.153516</td>\n",
       "      <td>0.327807</td>\n",
       "      <td>0.354101</td>\n",
       "      <td>0.345151</td>\n",
       "      <td>0.387222</td>\n",
       "      <td>0.382491</td>\n",
       "      <td>0.333419</td>\n",
       "      <td>0.330528</td>\n",
       "      <td>0.349080</td>\n",
       "      <td>0.306704</td>\n",
       "      <td>...</td>\n",
       "      <td>0.000260</td>\n",
       "      <td>0.000182</td>\n",
       "      <td>0.000197</td>\n",
       "      <td>0.000230</td>\n",
       "      <td>0.000199</td>\n",
       "      <td>0.000236</td>\n",
       "      <td>0.000223</td>\n",
       "      <td>0.000142</td>\n",
       "      <td>1.058883e-05</td>\n",
       "      <td>happy</td>\n",
       "    </tr>\n",
       "    <tr>\n",
       "      <th>4317</th>\n",
       "      <td>0.173964</td>\n",
       "      <td>0.416651</td>\n",
       "      <td>0.363161</td>\n",
       "      <td>0.355355</td>\n",
       "      <td>0.439302</td>\n",
       "      <td>0.516752</td>\n",
       "      <td>0.515909</td>\n",
       "      <td>0.412584</td>\n",
       "      <td>0.450408</td>\n",
       "      <td>0.592608</td>\n",
       "      <td>...</td>\n",
       "      <td>0.000014</td>\n",
       "      <td>0.000011</td>\n",
       "      <td>0.000016</td>\n",
       "      <td>0.000014</td>\n",
       "      <td>0.000012</td>\n",
       "      <td>0.000015</td>\n",
       "      <td>0.000012</td>\n",
       "      <td>0.000006</td>\n",
       "      <td>4.779550e-07</td>\n",
       "      <td>calm</td>\n",
       "    </tr>\n",
       "    <tr>\n",
       "      <th>4318</th>\n",
       "      <td>0.403081</td>\n",
       "      <td>0.556848</td>\n",
       "      <td>0.611696</td>\n",
       "      <td>0.585730</td>\n",
       "      <td>0.618613</td>\n",
       "      <td>0.669793</td>\n",
       "      <td>0.650473</td>\n",
       "      <td>0.564528</td>\n",
       "      <td>0.524365</td>\n",
       "      <td>0.611286</td>\n",
       "      <td>...</td>\n",
       "      <td>0.000586</td>\n",
       "      <td>0.000563</td>\n",
       "      <td>0.000573</td>\n",
       "      <td>0.000557</td>\n",
       "      <td>0.000544</td>\n",
       "      <td>0.000558</td>\n",
       "      <td>0.000561</td>\n",
       "      <td>0.000549</td>\n",
       "      <td>5.396194e-04</td>\n",
       "      <td>calm</td>\n",
       "    </tr>\n",
       "    <tr>\n",
       "      <th>4319</th>\n",
       "      <td>0.100318</td>\n",
       "      <td>0.377682</td>\n",
       "      <td>0.341665</td>\n",
       "      <td>0.329677</td>\n",
       "      <td>0.327248</td>\n",
       "      <td>0.398816</td>\n",
       "      <td>0.489361</td>\n",
       "      <td>0.469695</td>\n",
       "      <td>0.389085</td>\n",
       "      <td>0.365674</td>\n",
       "      <td>...</td>\n",
       "      <td>0.000003</td>\n",
       "      <td>0.000004</td>\n",
       "      <td>0.000002</td>\n",
       "      <td>0.000003</td>\n",
       "      <td>0.000004</td>\n",
       "      <td>0.000003</td>\n",
       "      <td>0.000003</td>\n",
       "      <td>0.000001</td>\n",
       "      <td>1.514277e-07</td>\n",
       "      <td>calm</td>\n",
       "    </tr>\n",
       "  </tbody>\n",
       "</table>\n",
       "<p>4320 rows × 163 columns</p>\n",
       "</div>"
      ],
      "text/plain": [
       "             0         1         2         3         4         5         6  \\\n",
       "0     0.238449  0.494891  0.474462  0.332266  0.331190  0.339100  0.349193   \n",
       "1     0.414103  0.722722  0.699077  0.628086  0.626512  0.607741  0.535242   \n",
       "2     0.220855  0.373287  0.519008  0.472378  0.315185  0.313234  0.298754   \n",
       "3     0.240148  0.339819  0.357354  0.402665  0.415448  0.486580  0.552078   \n",
       "4     0.417991  0.531086  0.580057  0.617404  0.666578  0.673327  0.742290   \n",
       "...        ...       ...       ...       ...       ...       ...       ...   \n",
       "4315  0.396860  0.550422  0.565553  0.584306  0.608592  0.554600  0.511907   \n",
       "4316  0.153516  0.327807  0.354101  0.345151  0.387222  0.382491  0.333419   \n",
       "4317  0.173964  0.416651  0.363161  0.355355  0.439302  0.516752  0.515909   \n",
       "4318  0.403081  0.556848  0.611696  0.585730  0.618613  0.669793  0.650473   \n",
       "4319  0.100318  0.377682  0.341665  0.329677  0.327248  0.398816  0.489361   \n",
       "\n",
       "             7         8         9  ...       153       154       155  \\\n",
       "0     0.384328  0.450196  0.476845  ...  0.001865  0.001613  0.001542   \n",
       "1     0.521779  0.553874  0.571807  ...  0.212777  0.196042  0.183440   \n",
       "2     0.275199  0.355760  0.467056  ...  0.000564  0.000562  0.000407   \n",
       "3     0.354643  0.349146  0.352472  ...  0.002150  0.004248  0.005924   \n",
       "4     0.612915  0.479018  0.448518  ...  0.028456  0.032081  0.033845   \n",
       "...        ...       ...       ...  ...       ...       ...       ...   \n",
       "4315  0.483717  0.459956  0.504071  ...  0.047529  0.049611  0.050014   \n",
       "4316  0.330528  0.349080  0.306704  ...  0.000260  0.000182  0.000197   \n",
       "4317  0.412584  0.450408  0.592608  ...  0.000014  0.000011  0.000016   \n",
       "4318  0.564528  0.524365  0.611286  ...  0.000586  0.000563  0.000573   \n",
       "4319  0.469695  0.389085  0.365674  ...  0.000003  0.000004  0.000002   \n",
       "\n",
       "           156       157       158       159       160           161  labels  \n",
       "0     0.001590  0.001572  0.001468  0.001524  0.000913  8.202936e-05    fear  \n",
       "1     0.202218  0.192023  0.208727  0.211861  0.202115  1.976549e-01    fear  \n",
       "2     0.000377  0.000348  0.000472  0.000338  0.000274  3.435445e-05    fear  \n",
       "3     0.004535  0.004361  0.003670  0.002869  0.002482  2.871481e-04    fear  \n",
       "4     0.030974  0.034898  0.032986  0.032670  0.031333  3.038724e-02    fear  \n",
       "...        ...       ...       ...       ...       ...           ...     ...  \n",
       "4315  0.048983  0.049046  0.044718  0.044968  0.046421  4.669840e-02   happy  \n",
       "4316  0.000230  0.000199  0.000236  0.000223  0.000142  1.058883e-05   happy  \n",
       "4317  0.000014  0.000012  0.000015  0.000012  0.000006  4.779550e-07    calm  \n",
       "4318  0.000557  0.000544  0.000558  0.000561  0.000549  5.396194e-04    calm  \n",
       "4319  0.000003  0.000004  0.000003  0.000003  0.000001  1.514277e-07    calm  \n",
       "\n",
       "[4320 rows x 163 columns]"
      ]
     },
     "execution_count": 35,
     "metadata": {},
     "output_type": "execute_result"
    }
   ],
   "source": [
    "Features"
   ]
  },
  {
   "cell_type": "markdown",
   "metadata": {},
   "source": [
    "### 2.1. Data Preparation (Preparação dos Dados)"
   ]
  },
  {
   "cell_type": "markdown",
   "metadata": {},
   "source": [
    "# **Funções usadas:**  \n",
    "\n",
    "### **.iloc()**: serve para selecionar linhas e colunas específicas de um dataframe. Exemplo:  \n",
    "- .iloc[0:10, -1]: seleciona as linhas de 0 a 4 da última coluna. Usa-se a vírgula para separar linha/coluna \n",
    "- .iloc[0, :-1]: seleciona a primeira linha de todas as colunas menos a última  \n",
    "- **Retorno**: **uma series pandas**\n",
    "\n",
    "\n",
    "### **.get_dummies()**: serve para transformar um array numpy em dados categoricos\n",
    "- **Parâmetros**: (array numpy, dtype=int)"
   ]
  },
  {
   "cell_type": "code",
   "execution_count": 218,
   "metadata": {},
   "outputs": [],
   "source": [
    "# seleciona todas as linhas da primeira até a penultima coluna\n",
    "# aplica .values para que cada elemento de X seja uma linha do dataset \n",
    "X = Features.iloc[: ,:-1].values \n",
    "\n",
    "# Retorna todos os dados de labels em um array\n",
    "Y = Features['labels'].values"
   ]
  },
  {
   "cell_type": "code",
   "execution_count": 219,
   "metadata": {},
   "outputs": [],
   "source": [
    "# Use OneHotEncoder para transformar o Y em uma representação binária categórica, necessária para problemas de classificação multiclasse\n",
    "encoder = OneHotEncoder(sparse_output=False)\n",
    "Y_reshaped = np.array(Y).reshape(-1, 1)\n",
    "Y = encoder.fit_transform(Y_reshaped)"
   ]
  },
  {
   "cell_type": "markdown",
   "metadata": {},
   "source": [
    "### **train_test_split**: divide cada matriz passada em duas: dados para teste e dados para treino  \n",
    "\n",
    "- **Parâmetros**: (matriz1, matriz2, ..., train_size=, test_size=)\n",
    "- Divide **ALEATORIAMENTE** quais dados usará no conjunto teste ou treino\n",
    "- Mesmo passando duas matrizes, ela vai dividir as **mesmas linhas**\n"
   ]
  },
  {
   "cell_type": "code",
   "execution_count": 220,
   "metadata": {},
   "outputs": [],
   "source": [
    "# Use train_test_split do scikit-learn para dividir X e Y em conjuntos de treino e teste\n",
    "X_train, X_test, Y_train, Y_test = train_test_split(X, Y, test_size=0.15) # divide em 15% dos dados para teste e 85% para treino\n"
   ]
  },
  {
   "cell_type": "markdown",
   "metadata": {},
   "source": [
    "### **StandardScaler**: é uma fórmula para normalizar os dados:\n",
    "\n",
    "z = (X - média da coluna de X) / desvio padrão de X  \n",
    "\n",
    "**.fit()**: calcula o novo valor para os dados  \n",
    "  \n",
    "**.transform()**: aplica a transformação de valores  \n",
    "\n",
    "Em X_test não é necessário usar o .fit(), pois o calculo ja foi feito anteriormente, so basta aplicá-lo com transform"
   ]
  },
  {
   "cell_type": "code",
   "execution_count": 221,
   "metadata": {},
   "outputs": [
    {
     "data": {
      "text/plain": [
       "((3672, 162), (648, 162))"
      ]
     },
     "execution_count": 221,
     "metadata": {},
     "output_type": "execute_result"
    }
   ],
   "source": [
    "# Utilize StandardScaler do sklearn para normalizar as características de X\n",
    "sc = StandardScaler()\n",
    "\n",
    "X_train = sc.fit_transform(X_train)\n",
    "X_test = sc.transform(X_test)\n",
    "\n",
    "X_train.shape, X_test.shape"
   ]
  },
  {
   "cell_type": "code",
   "execution_count": 222,
   "metadata": {},
   "outputs": [
    {
     "data": {
      "text/plain": [
       "((3672, 162, 1), (3672, 8), (648, 162, 1), (648, 8))"
      ]
     },
     "execution_count": 222,
     "metadata": {},
     "output_type": "execute_result"
    }
   ],
   "source": [
    "# Rode essa célula para deixar as dimensões certinhas com o modelo que iremos criar.\n",
    "X_train = np.expand_dims(X_train, axis=2)\n",
    "X_test = np.expand_dims(X_test, axis=2)\n",
    "X_train.shape, Y_train.shape, X_test.shape, Y_test.shape"
   ]
  },
  {
   "cell_type": "markdown",
   "metadata": {},
   "source": [
    "### 3. Model Training (Modelling)"
   ]
  },
  {
   "cell_type": "markdown",
   "metadata": {},
   "source": [
    "#### O modelo que vamos usar é uma rede neural convolucional (CNN) projetada para processar os dados extraídos dos arquivos de áudio. Essa estrutura é ideal para capturar padrões espectrais, como variações de tom e intensidade. A CNN é composta por:\n",
    "- Camadas Convolucionais (Conv1D): Extraem características do espectro do áudio.\n",
    "- Camadas de Pooling (MaxPooling1D): Reduzem a dimensionalidade e capturam as informações mais relevantes.\n",
    "- Dropout: Ajuda a evitar overfitting.\n",
    "- Camada Flatten: Transforma os mapas de features em um vetor de entrada para a camada totalmente conectada.\n",
    "- Camadas Densas (Dense): Realizam a classificação final usando a função de ativação softmax."
   ]
  },
  {
   "cell_type": "markdown",
   "metadata": {},
   "source": [
    "Uma imagem é uma grande matriz. Em que cada ponto é uma cor RGB. Assim, computar todos os pontos dessa matriz é algo extremamente custoso.  \n",
    "\n",
    "A rede CNN **tenta extrair as características mais importantes em uma imagem**. Exemplo, ao se deparar com a imagem de ondas sonoras de um áudio, tenta computar somente as partes que as ondas aparecem  \n",
    "\n",
    "# **Funções usadas:**  \n",
    "\n",
    "### **keras.sequential()**: a rede CNN utilizada possui uma única entrada. A função serve para escrever camadas em Redes desse tipo  \n",
    "\n",
    "### **keras.layers.Conv1D()**: cria uma camada de CNN para 1 dimensão  \n",
    "\n",
    "Em uma rede CNN, é importante saber quais áreas da imagem são as mais importantes:  \n",
    "### **keras.layers.MaxPooling1D** é a função que reduz a imagem na CNN  \n",
    "\n",
    "## **keras.layers.Dropout**: elimina aleatoriamente algumas conexões da rede de CNN\n",
    "- O objetivo é impedir o **Overffiting**, pois, ao eliminar conexões, diminui a probabilidade de o modelo estar excessivamente treinado com seus próprios dados \n",
    "- mais infos: https://medium.com/@csediveyanand/what-is-dropout-in-keras-deep-learning-c2d0913439f3\n",
    "\n",
    "### **keras.Flatten**: ao entrar com imagens de diferentes dimensões, o Flatten as converte para um array unidimensional  \n",
    "- Isso acontece para que o modelo só precise de um único neurônio de entrada\n",
    "- mais infos: https://kevinmlean.medium.com/how-to-use-keras-layers-flatten-c3f29ed1b686"
   ]
  },
  {
   "cell_type": "code",
   "execution_count": 223,
   "metadata": {},
   "outputs": [
    {
     "data": {
      "text/html": [
       "<pre style=\"white-space:pre;overflow-x:auto;line-height:normal;font-family:Menlo,'DejaVu Sans Mono',consolas,'Courier New',monospace\"><span style=\"font-weight: bold\">Model: \"sequential_18\"</span>\n",
       "</pre>\n"
      ],
      "text/plain": [
       "\u001b[1mModel: \"sequential_18\"\u001b[0m\n"
      ]
     },
     "metadata": {},
     "output_type": "display_data"
    },
    {
     "data": {
      "text/html": [
       "<pre style=\"white-space:pre;overflow-x:auto;line-height:normal;font-family:Menlo,'DejaVu Sans Mono',consolas,'Courier New',monospace\">┏━━━━━━━━━━━━━━━━━━━━━━━━━━━━━━━━━┳━━━━━━━━━━━━━━━━━━━━━━━━┳━━━━━━━━━━━━━━━┓\n",
       "┃<span style=\"font-weight: bold\"> Layer (type)                    </span>┃<span style=\"font-weight: bold\"> Output Shape           </span>┃<span style=\"font-weight: bold\">       Param # </span>┃\n",
       "┡━━━━━━━━━━━━━━━━━━━━━━━━━━━━━━━━━╇━━━━━━━━━━━━━━━━━━━━━━━━╇━━━━━━━━━━━━━━━┩\n",
       "│ conv1d_33 (<span style=\"color: #0087ff; text-decoration-color: #0087ff\">Conv1D</span>)              │ (<span style=\"color: #00d7ff; text-decoration-color: #00d7ff\">None</span>, <span style=\"color: #00af00; text-decoration-color: #00af00\">162</span>, <span style=\"color: #00af00; text-decoration-color: #00af00\">256</span>)       │         <span style=\"color: #00af00; text-decoration-color: #00af00\">1,536</span> │\n",
       "├─────────────────────────────────┼────────────────────────┼───────────────┤\n",
       "│ max_pooling1d_33 (<span style=\"color: #0087ff; text-decoration-color: #0087ff\">MaxPooling1D</span>) │ (<span style=\"color: #00d7ff; text-decoration-color: #00d7ff\">None</span>, <span style=\"color: #00af00; text-decoration-color: #00af00\">81</span>, <span style=\"color: #00af00; text-decoration-color: #00af00\">256</span>)        │             <span style=\"color: #00af00; text-decoration-color: #00af00\">0</span> │\n",
       "├─────────────────────────────────┼────────────────────────┼───────────────┤\n",
       "│ conv1d_34 (<span style=\"color: #0087ff; text-decoration-color: #0087ff\">Conv1D</span>)              │ (<span style=\"color: #00d7ff; text-decoration-color: #00d7ff\">None</span>, <span style=\"color: #00af00; text-decoration-color: #00af00\">81</span>, <span style=\"color: #00af00; text-decoration-color: #00af00\">64</span>)         │        <span style=\"color: #00af00; text-decoration-color: #00af00\">81,984</span> │\n",
       "├─────────────────────────────────┼────────────────────────┼───────────────┤\n",
       "│ max_pooling1d_34 (<span style=\"color: #0087ff; text-decoration-color: #0087ff\">MaxPooling1D</span>) │ (<span style=\"color: #00d7ff; text-decoration-color: #00d7ff\">None</span>, <span style=\"color: #00af00; text-decoration-color: #00af00\">41</span>, <span style=\"color: #00af00; text-decoration-color: #00af00\">64</span>)         │             <span style=\"color: #00af00; text-decoration-color: #00af00\">0</span> │\n",
       "├─────────────────────────────────┼────────────────────────┼───────────────┤\n",
       "│ dropout_33 (<span style=\"color: #0087ff; text-decoration-color: #0087ff\">Dropout</span>)            │ (<span style=\"color: #00d7ff; text-decoration-color: #00d7ff\">None</span>, <span style=\"color: #00af00; text-decoration-color: #00af00\">41</span>, <span style=\"color: #00af00; text-decoration-color: #00af00\">64</span>)         │             <span style=\"color: #00af00; text-decoration-color: #00af00\">0</span> │\n",
       "├─────────────────────────────────┼────────────────────────┼───────────────┤\n",
       "│ flatten_18 (<span style=\"color: #0087ff; text-decoration-color: #0087ff\">Flatten</span>)            │ (<span style=\"color: #00d7ff; text-decoration-color: #00d7ff\">None</span>, <span style=\"color: #00af00; text-decoration-color: #00af00\">2624</span>)           │             <span style=\"color: #00af00; text-decoration-color: #00af00\">0</span> │\n",
       "├─────────────────────────────────┼────────────────────────┼───────────────┤\n",
       "│ dense_36 (<span style=\"color: #0087ff; text-decoration-color: #0087ff\">Dense</span>)                │ (<span style=\"color: #00d7ff; text-decoration-color: #00d7ff\">None</span>, <span style=\"color: #00af00; text-decoration-color: #00af00\">32</span>)             │        <span style=\"color: #00af00; text-decoration-color: #00af00\">84,000</span> │\n",
       "├─────────────────────────────────┼────────────────────────┼───────────────┤\n",
       "│ dropout_34 (<span style=\"color: #0087ff; text-decoration-color: #0087ff\">Dropout</span>)            │ (<span style=\"color: #00d7ff; text-decoration-color: #00d7ff\">None</span>, <span style=\"color: #00af00; text-decoration-color: #00af00\">32</span>)             │             <span style=\"color: #00af00; text-decoration-color: #00af00\">0</span> │\n",
       "├─────────────────────────────────┼────────────────────────┼───────────────┤\n",
       "│ dense_37 (<span style=\"color: #0087ff; text-decoration-color: #0087ff\">Dense</span>)                │ (<span style=\"color: #00d7ff; text-decoration-color: #00d7ff\">None</span>, <span style=\"color: #00af00; text-decoration-color: #00af00\">8</span>)              │           <span style=\"color: #00af00; text-decoration-color: #00af00\">264</span> │\n",
       "└─────────────────────────────────┴────────────────────────┴───────────────┘\n",
       "</pre>\n"
      ],
      "text/plain": [
       "┏━━━━━━━━━━━━━━━━━━━━━━━━━━━━━━━━━┳━━━━━━━━━━━━━━━━━━━━━━━━┳━━━━━━━━━━━━━━━┓\n",
       "┃\u001b[1m \u001b[0m\u001b[1mLayer (type)                   \u001b[0m\u001b[1m \u001b[0m┃\u001b[1m \u001b[0m\u001b[1mOutput Shape          \u001b[0m\u001b[1m \u001b[0m┃\u001b[1m \u001b[0m\u001b[1m      Param #\u001b[0m\u001b[1m \u001b[0m┃\n",
       "┡━━━━━━━━━━━━━━━━━━━━━━━━━━━━━━━━━╇━━━━━━━━━━━━━━━━━━━━━━━━╇━━━━━━━━━━━━━━━┩\n",
       "│ conv1d_33 (\u001b[38;5;33mConv1D\u001b[0m)              │ (\u001b[38;5;45mNone\u001b[0m, \u001b[38;5;34m162\u001b[0m, \u001b[38;5;34m256\u001b[0m)       │         \u001b[38;5;34m1,536\u001b[0m │\n",
       "├─────────────────────────────────┼────────────────────────┼───────────────┤\n",
       "│ max_pooling1d_33 (\u001b[38;5;33mMaxPooling1D\u001b[0m) │ (\u001b[38;5;45mNone\u001b[0m, \u001b[38;5;34m81\u001b[0m, \u001b[38;5;34m256\u001b[0m)        │             \u001b[38;5;34m0\u001b[0m │\n",
       "├─────────────────────────────────┼────────────────────────┼───────────────┤\n",
       "│ conv1d_34 (\u001b[38;5;33mConv1D\u001b[0m)              │ (\u001b[38;5;45mNone\u001b[0m, \u001b[38;5;34m81\u001b[0m, \u001b[38;5;34m64\u001b[0m)         │        \u001b[38;5;34m81,984\u001b[0m │\n",
       "├─────────────────────────────────┼────────────────────────┼───────────────┤\n",
       "│ max_pooling1d_34 (\u001b[38;5;33mMaxPooling1D\u001b[0m) │ (\u001b[38;5;45mNone\u001b[0m, \u001b[38;5;34m41\u001b[0m, \u001b[38;5;34m64\u001b[0m)         │             \u001b[38;5;34m0\u001b[0m │\n",
       "├─────────────────────────────────┼────────────────────────┼───────────────┤\n",
       "│ dropout_33 (\u001b[38;5;33mDropout\u001b[0m)            │ (\u001b[38;5;45mNone\u001b[0m, \u001b[38;5;34m41\u001b[0m, \u001b[38;5;34m64\u001b[0m)         │             \u001b[38;5;34m0\u001b[0m │\n",
       "├─────────────────────────────────┼────────────────────────┼───────────────┤\n",
       "│ flatten_18 (\u001b[38;5;33mFlatten\u001b[0m)            │ (\u001b[38;5;45mNone\u001b[0m, \u001b[38;5;34m2624\u001b[0m)           │             \u001b[38;5;34m0\u001b[0m │\n",
       "├─────────────────────────────────┼────────────────────────┼───────────────┤\n",
       "│ dense_36 (\u001b[38;5;33mDense\u001b[0m)                │ (\u001b[38;5;45mNone\u001b[0m, \u001b[38;5;34m32\u001b[0m)             │        \u001b[38;5;34m84,000\u001b[0m │\n",
       "├─────────────────────────────────┼────────────────────────┼───────────────┤\n",
       "│ dropout_34 (\u001b[38;5;33mDropout\u001b[0m)            │ (\u001b[38;5;45mNone\u001b[0m, \u001b[38;5;34m32\u001b[0m)             │             \u001b[38;5;34m0\u001b[0m │\n",
       "├─────────────────────────────────┼────────────────────────┼───────────────┤\n",
       "│ dense_37 (\u001b[38;5;33mDense\u001b[0m)                │ (\u001b[38;5;45mNone\u001b[0m, \u001b[38;5;34m8\u001b[0m)              │           \u001b[38;5;34m264\u001b[0m │\n",
       "└─────────────────────────────────┴────────────────────────┴───────────────┘\n"
      ]
     },
     "metadata": {},
     "output_type": "display_data"
    },
    {
     "data": {
      "text/html": [
       "<pre style=\"white-space:pre;overflow-x:auto;line-height:normal;font-family:Menlo,'DejaVu Sans Mono',consolas,'Courier New',monospace\"><span style=\"font-weight: bold\"> Total params: </span><span style=\"color: #00af00; text-decoration-color: #00af00\">167,784</span> (655.41 KB)\n",
       "</pre>\n"
      ],
      "text/plain": [
       "\u001b[1m Total params: \u001b[0m\u001b[38;5;34m167,784\u001b[0m (655.41 KB)\n"
      ]
     },
     "metadata": {},
     "output_type": "display_data"
    },
    {
     "data": {
      "text/html": [
       "<pre style=\"white-space:pre;overflow-x:auto;line-height:normal;font-family:Menlo,'DejaVu Sans Mono',consolas,'Courier New',monospace\"><span style=\"font-weight: bold\"> Trainable params: </span><span style=\"color: #00af00; text-decoration-color: #00af00\">167,784</span> (655.41 KB)\n",
       "</pre>\n"
      ],
      "text/plain": [
       "\u001b[1m Trainable params: \u001b[0m\u001b[38;5;34m167,784\u001b[0m (655.41 KB)\n"
      ]
     },
     "metadata": {},
     "output_type": "display_data"
    },
    {
     "data": {
      "text/html": [
       "<pre style=\"white-space:pre;overflow-x:auto;line-height:normal;font-family:Menlo,'DejaVu Sans Mono',consolas,'Courier New',monospace\"><span style=\"font-weight: bold\"> Non-trainable params: </span><span style=\"color: #00af00; text-decoration-color: #00af00\">0</span> (0.00 B)\n",
       "</pre>\n"
      ],
      "text/plain": [
       "\u001b[1m Non-trainable params: \u001b[0m\u001b[38;5;34m0\u001b[0m (0.00 B)\n"
      ]
     },
     "metadata": {},
     "output_type": "display_data"
    }
   ],
   "source": [
    "# Dica: você pode olhar a documentação e ir seguindo o passo a passo arquitetônico para criar o modelo.\n",
    "\n",
    "# Passo 1: Use Sequential() para criar o modelo como um contêiner linear.\n",
    "# Passo 2: Adicione uma camada Conv1D com 256 filtros, kernel_size=5, strides=1, padding='same' e função de ativação 'relu'.\n",
    "# Passo 3: Siga com uma camada MaxPooling1D com pool_size=5, strides=2, padding='same'.\n",
    "# Passo 4: Adicione mais uma camada Conv1D com 256 filtros, kernel_size=5, strides=1, padding='same' e função de ativação 'relu'.\n",
    "# Passo 5: Adicione mais uma camada MaxPooling1D com pool_size=5, strides=2, padding='same'.\n",
    "# Passo 6: Adicione mais uma camada Conv1D com 128 filtros, kernel_size=5, strides=1, padding='same' e função de ativação 'relu'.\n",
    "# Passo 7: Adicione mais uma camada MaxPooling1D com pool_size=5, strides=2, padding='same'.\n",
    "# Passo 8: Adicione uma camada Dropout com 0.2 de taxa de dropout.\n",
    "# Passo 9: Adicione mais uma camada Conv1D com 64 filtros, kernel_size=5, strides=1, padding='same' e função de ativação 'relu'.\n",
    "# Passo 10: Adicione mais uma camada MaxPooling1D com pool_size=5, strides=2, padding='same'.\n",
    "# Passo 11: Adicione uma camada Flatten.\n",
    "# Passo 12: Adicione uma camada Dense com 32 unidades e função de ativação 'relu'.\n",
    "# Passo 13: Adicione uma camada Dropout com 0.3 de taxa de dropout.\n",
    "# Passo 14: Adicione uma camada Dense com 8 unidades e função de ativação 'softmax'.\n",
    "# Passo 15: Compile o modelo com otimizador 'adam', loss 'categorical_crossentropy' e métrica 'accuracy'.\n",
    "# Passo 16: Use model.summary() para visualizar o modelo.\n",
    "\n",
    "modelo = keras.Sequential( # passo 1\n",
    "    [\n",
    "     keras.layers.Conv1D(filters=256, kernel_size=5, strides=1, padding='same', activation='relu',input_shape=(162, 1)), #neurônio de entrada # passo 2\n",
    "     keras.layers.MaxPooling1D(pool_size=5, strides=2, padding='same'), # passo 3\n",
    "     #keras.layers.Dropout(rate=0.2), # passo 8\n",
    "     keras.layers.Conv1D(filters=64, kernel_size=5, strides=1, padding='same', activation='relu'), # passo 9\n",
    "     keras.layers.MaxPooling1D(pool_size=5, strides=2, padding='same'), # passo 10\n",
    "     keras.layers.Dropout(rate=0.2), # passo 8\n",
    "     keras.layers.Flatten(), # passo 11\n",
    "     keras.layers.Dense(units=32,activation='relu'), # passo 12\n",
    "     keras.layers.Dropout(rate=0.3), # passo 13\n",
    "     keras.layers.Dense(units=8,activation='softmax')\n",
    "    ]\n",
    ")\n",
    "\n",
    "# adam é um otimizador para atualizar os pesos durante o treino\n",
    "# loss é a função de perda, ou seja, o que o modelo deve minizar (diferença entre o previsto e o real)\n",
    "modelo.compile(optimizer='adam', loss='categorical_crossentropy', metrics=['accuracy']) #passo 15\n",
    "modelo.summary() #passo 16"
   ]
  },
  {
   "cell_type": "markdown",
   "metadata": {},
   "source": [
    "### 3.1. Agora vamos de fato treinar o modelo, siga esses passos: \n",
    "##### 1. Use o callback para Ajustar a Taxa de Aprendizado \n",
    "##### ReduceLROnPlateau: Diminui a taxa de aprendizado quando uma métrica está estagnada.\n",
    "   Parâmetros:\n",
    "   - monitor='loss': Monitora a perda durante o treinamento.\n",
    "   - factor=0.4: Reduz a taxa de aprendizado por este fator.\n",
    "   - patience=2: Número de épocas sem melhora antes da redução.\n",
    "   - min_lr=0.0000001: Limite mínimo para a taxa de aprendizado.\n",
    "             \n",
    "##### 2. Treine o Modelo \n",
    "##### Utilize model.fit para iniciar o treino da rede neural.\n",
    "   Parâmetros:\n",
    "   - x_train, y_train: Conjunto de dados de treino.\n",
    "   - batch_size=64: Número de amostras por atualização de gradiente.\n",
    "   - epochs=50: Número de vezes que o modelo treina em todo o conjunto de dados.\n",
    "   - validation_data=(x_test, y_test): Conjunto de dados para validação durante o treino.\n",
    "   - callbacks=[rlrp]: Lista de callbacks a serem aplicados durante o treino.\n",
    "     "
   ]
  },
  {
   "cell_type": "code",
   "execution_count": 224,
   "metadata": {},
   "outputs": [
    {
     "name": "stdout",
     "output_type": "stream",
     "text": [
      "Epoch 1/50\n",
      "\u001b[1m58/58\u001b[0m \u001b[32m━━━━━━━━━━━━━━━━━━━━\u001b[0m\u001b[37m\u001b[0m \u001b[1m4s\u001b[0m 44ms/step - accuracy: 0.2029 - loss: 1.9841 - val_accuracy: 0.2716 - val_loss: 1.8543 - learning_rate: 0.0010\n",
      "Epoch 2/50\n",
      "\u001b[1m58/58\u001b[0m \u001b[32m━━━━━━━━━━━━━━━━━━━━\u001b[0m\u001b[37m\u001b[0m \u001b[1m2s\u001b[0m 41ms/step - accuracy: 0.2719 - loss: 1.8612 - val_accuracy: 0.3287 - val_loss: 1.7632 - learning_rate: 0.0010\n",
      "Epoch 3/50\n",
      "\u001b[1m58/58\u001b[0m \u001b[32m━━━━━━━━━━━━━━━━━━━━\u001b[0m\u001b[37m\u001b[0m \u001b[1m2s\u001b[0m 41ms/step - accuracy: 0.3040 - loss: 1.7916 - val_accuracy: 0.3488 - val_loss: 1.7461 - learning_rate: 0.0010\n",
      "Epoch 4/50\n",
      "\u001b[1m58/58\u001b[0m \u001b[32m━━━━━━━━━━━━━━━━━━━━\u001b[0m\u001b[37m\u001b[0m \u001b[1m2s\u001b[0m 41ms/step - accuracy: 0.3318 - loss: 1.7544 - val_accuracy: 0.3781 - val_loss: 1.6793 - learning_rate: 0.0010\n",
      "Epoch 5/50\n",
      "\u001b[1m58/58\u001b[0m \u001b[32m━━━━━━━━━━━━━━━━━━━━\u001b[0m\u001b[37m\u001b[0m \u001b[1m2s\u001b[0m 41ms/step - accuracy: 0.3332 - loss: 1.7339 - val_accuracy: 0.3765 - val_loss: 1.6563 - learning_rate: 0.0010\n",
      "Epoch 6/50\n",
      "\u001b[1m58/58\u001b[0m \u001b[32m━━━━━━━━━━━━━━━━━━━━\u001b[0m\u001b[37m\u001b[0m \u001b[1m3s\u001b[0m 45ms/step - accuracy: 0.3666 - loss: 1.6601 - val_accuracy: 0.3750 - val_loss: 1.6350 - learning_rate: 0.0010\n",
      "Epoch 7/50\n",
      "\u001b[1m58/58\u001b[0m \u001b[32m━━━━━━━━━━━━━━━━━━━━\u001b[0m\u001b[37m\u001b[0m \u001b[1m2s\u001b[0m 42ms/step - accuracy: 0.3464 - loss: 1.6689 - val_accuracy: 0.3920 - val_loss: 1.6183 - learning_rate: 0.0010\n",
      "Epoch 8/50\n",
      "\u001b[1m58/58\u001b[0m \u001b[32m━━━━━━━━━━━━━━━━━━━━\u001b[0m\u001b[37m\u001b[0m \u001b[1m2s\u001b[0m 41ms/step - accuracy: 0.3669 - loss: 1.6471 - val_accuracy: 0.4306 - val_loss: 1.5418 - learning_rate: 0.0010\n",
      "Epoch 9/50\n",
      "\u001b[1m58/58\u001b[0m \u001b[32m━━━━━━━━━━━━━━━━━━━━\u001b[0m\u001b[37m\u001b[0m \u001b[1m2s\u001b[0m 41ms/step - accuracy: 0.3915 - loss: 1.5705 - val_accuracy: 0.4213 - val_loss: 1.5353 - learning_rate: 0.0010\n",
      "Epoch 10/50\n",
      "\u001b[1m58/58\u001b[0m \u001b[32m━━━━━━━━━━━━━━━━━━━━\u001b[0m\u001b[37m\u001b[0m \u001b[1m2s\u001b[0m 43ms/step - accuracy: 0.3940 - loss: 1.5662 - val_accuracy: 0.4460 - val_loss: 1.5412 - learning_rate: 0.0010\n",
      "Epoch 11/50\n",
      "\u001b[1m58/58\u001b[0m \u001b[32m━━━━━━━━━━━━━━━━━━━━\u001b[0m\u001b[37m\u001b[0m \u001b[1m2s\u001b[0m 42ms/step - accuracy: 0.3991 - loss: 1.5434 - val_accuracy: 0.4383 - val_loss: 1.5091 - learning_rate: 0.0010\n",
      "Epoch 12/50\n",
      "\u001b[1m58/58\u001b[0m \u001b[32m━━━━━━━━━━━━━━━━━━━━\u001b[0m\u001b[37m\u001b[0m \u001b[1m2s\u001b[0m 41ms/step - accuracy: 0.4275 - loss: 1.5086 - val_accuracy: 0.4552 - val_loss: 1.4691 - learning_rate: 0.0010\n",
      "Epoch 13/50\n",
      "\u001b[1m58/58\u001b[0m \u001b[32m━━━━━━━━━━━━━━━━━━━━\u001b[0m\u001b[37m\u001b[0m \u001b[1m2s\u001b[0m 41ms/step - accuracy: 0.4517 - loss: 1.4424 - val_accuracy: 0.4460 - val_loss: 1.4732 - learning_rate: 0.0010\n",
      "Epoch 14/50\n",
      "\u001b[1m58/58\u001b[0m \u001b[32m━━━━━━━━━━━━━━━━━━━━\u001b[0m\u001b[37m\u001b[0m \u001b[1m2s\u001b[0m 41ms/step - accuracy: 0.4412 - loss: 1.4609 - val_accuracy: 0.4861 - val_loss: 1.4377 - learning_rate: 0.0010\n",
      "Epoch 15/50\n",
      "\u001b[1m58/58\u001b[0m \u001b[32m━━━━━━━━━━━━━━━━━━━━\u001b[0m\u001b[37m\u001b[0m \u001b[1m2s\u001b[0m 43ms/step - accuracy: 0.4477 - loss: 1.4273 - val_accuracy: 0.4846 - val_loss: 1.3993 - learning_rate: 0.0010\n",
      "Epoch 16/50\n",
      "\u001b[1m58/58\u001b[0m \u001b[32m━━━━━━━━━━━━━━━━━━━━\u001b[0m\u001b[37m\u001b[0m \u001b[1m3s\u001b[0m 43ms/step - accuracy: 0.4453 - loss: 1.4183 - val_accuracy: 0.4784 - val_loss: 1.4179 - learning_rate: 0.0010\n",
      "Epoch 17/50\n",
      "\u001b[1m58/58\u001b[0m \u001b[32m━━━━━━━━━━━━━━━━━━━━\u001b[0m\u001b[37m\u001b[0m \u001b[1m2s\u001b[0m 41ms/step - accuracy: 0.4566 - loss: 1.4159 - val_accuracy: 0.4892 - val_loss: 1.4207 - learning_rate: 0.0010\n",
      "Epoch 18/50\n",
      "\u001b[1m58/58\u001b[0m \u001b[32m━━━━━━━━━━━━━━━━━━━━\u001b[0m\u001b[37m\u001b[0m \u001b[1m2s\u001b[0m 41ms/step - accuracy: 0.4746 - loss: 1.3783 - val_accuracy: 0.4877 - val_loss: 1.3856 - learning_rate: 0.0010\n",
      "Epoch 19/50\n",
      "\u001b[1m58/58\u001b[0m \u001b[32m━━━━━━━━━━━━━━━━━━━━\u001b[0m\u001b[37m\u001b[0m \u001b[1m2s\u001b[0m 42ms/step - accuracy: 0.4856 - loss: 1.3458 - val_accuracy: 0.5015 - val_loss: 1.3350 - learning_rate: 0.0010\n",
      "Epoch 20/50\n",
      "\u001b[1m58/58\u001b[0m \u001b[32m━━━━━━━━━━━━━━━━━━━━\u001b[0m\u001b[37m\u001b[0m \u001b[1m2s\u001b[0m 42ms/step - accuracy: 0.4972 - loss: 1.3335 - val_accuracy: 0.4877 - val_loss: 1.3482 - learning_rate: 0.0010\n",
      "Epoch 21/50\n",
      "\u001b[1m58/58\u001b[0m \u001b[32m━━━━━━━━━━━━━━━━━━━━\u001b[0m\u001b[37m\u001b[0m \u001b[1m2s\u001b[0m 41ms/step - accuracy: 0.5084 - loss: 1.2974 - val_accuracy: 0.5309 - val_loss: 1.3167 - learning_rate: 0.0010\n",
      "Epoch 22/50\n",
      "\u001b[1m58/58\u001b[0m \u001b[32m━━━━━━━━━━━━━━━━━━━━\u001b[0m\u001b[37m\u001b[0m \u001b[1m2s\u001b[0m 40ms/step - accuracy: 0.5182 - loss: 1.2851 - val_accuracy: 0.5185 - val_loss: 1.3095 - learning_rate: 0.0010\n",
      "Epoch 23/50\n",
      "\u001b[1m58/58\u001b[0m \u001b[32m━━━━━━━━━━━━━━━━━━━━\u001b[0m\u001b[37m\u001b[0m \u001b[1m2s\u001b[0m 42ms/step - accuracy: 0.5145 - loss: 1.2722 - val_accuracy: 0.5154 - val_loss: 1.3042 - learning_rate: 0.0010\n",
      "Epoch 24/50\n",
      "\u001b[1m58/58\u001b[0m \u001b[32m━━━━━━━━━━━━━━━━━━━━\u001b[0m\u001b[37m\u001b[0m \u001b[1m2s\u001b[0m 42ms/step - accuracy: 0.5211 - loss: 1.2684 - val_accuracy: 0.5324 - val_loss: 1.3094 - learning_rate: 0.0010\n",
      "Epoch 25/50\n",
      "\u001b[1m58/58\u001b[0m \u001b[32m━━━━━━━━━━━━━━━━━━━━\u001b[0m\u001b[37m\u001b[0m \u001b[1m2s\u001b[0m 41ms/step - accuracy: 0.5317 - loss: 1.2387 - val_accuracy: 0.5170 - val_loss: 1.2917 - learning_rate: 0.0010\n",
      "Epoch 26/50\n",
      "\u001b[1m58/58\u001b[0m \u001b[32m━━━━━━━━━━━━━━━━━━━━\u001b[0m\u001b[37m\u001b[0m \u001b[1m2s\u001b[0m 40ms/step - accuracy: 0.5231 - loss: 1.2399 - val_accuracy: 0.5293 - val_loss: 1.2998 - learning_rate: 0.0010\n",
      "Epoch 27/50\n",
      "\u001b[1m58/58\u001b[0m \u001b[32m━━━━━━━━━━━━━━━━━━━━\u001b[0m\u001b[37m\u001b[0m \u001b[1m2s\u001b[0m 41ms/step - accuracy: 0.5433 - loss: 1.2310 - val_accuracy: 0.5494 - val_loss: 1.2663 - learning_rate: 0.0010\n",
      "Epoch 28/50\n",
      "\u001b[1m58/58\u001b[0m \u001b[32m━━━━━━━━━━━━━━━━━━━━\u001b[0m\u001b[37m\u001b[0m \u001b[1m2s\u001b[0m 42ms/step - accuracy: 0.5364 - loss: 1.2258 - val_accuracy: 0.5478 - val_loss: 1.2509 - learning_rate: 0.0010\n",
      "Epoch 29/50\n",
      "\u001b[1m58/58\u001b[0m \u001b[32m━━━━━━━━━━━━━━━━━━━━\u001b[0m\u001b[37m\u001b[0m \u001b[1m2s\u001b[0m 42ms/step - accuracy: 0.5325 - loss: 1.2222 - val_accuracy: 0.5540 - val_loss: 1.2520 - learning_rate: 0.0010\n",
      "Epoch 30/50\n",
      "\u001b[1m58/58\u001b[0m \u001b[32m━━━━━━━━━━━━━━━━━━━━\u001b[0m\u001b[37m\u001b[0m \u001b[1m2s\u001b[0m 40ms/step - accuracy: 0.5423 - loss: 1.1837 - val_accuracy: 0.5293 - val_loss: 1.2550 - learning_rate: 0.0010\n",
      "Epoch 31/50\n",
      "\u001b[1m58/58\u001b[0m \u001b[32m━━━━━━━━━━━━━━━━━━━━\u001b[0m\u001b[37m\u001b[0m \u001b[1m2s\u001b[0m 41ms/step - accuracy: 0.5621 - loss: 1.1817 - val_accuracy: 0.5478 - val_loss: 1.2183 - learning_rate: 0.0010\n",
      "Epoch 32/50\n",
      "\u001b[1m58/58\u001b[0m \u001b[32m━━━━━━━━━━━━━━━━━━━━\u001b[0m\u001b[37m\u001b[0m \u001b[1m2s\u001b[0m 43ms/step - accuracy: 0.5494 - loss: 1.1610 - val_accuracy: 0.5494 - val_loss: 1.2258 - learning_rate: 0.0010\n",
      "Epoch 33/50\n",
      "\u001b[1m58/58\u001b[0m \u001b[32m━━━━━━━━━━━━━━━━━━━━\u001b[0m\u001b[37m\u001b[0m \u001b[1m2s\u001b[0m 42ms/step - accuracy: 0.5689 - loss: 1.1290 - val_accuracy: 0.5741 - val_loss: 1.2340 - learning_rate: 0.0010\n",
      "Epoch 34/50\n",
      "\u001b[1m58/58\u001b[0m \u001b[32m━━━━━━━━━━━━━━━━━━━━\u001b[0m\u001b[37m\u001b[0m \u001b[1m2s\u001b[0m 40ms/step - accuracy: 0.5651 - loss: 1.1303 - val_accuracy: 0.5648 - val_loss: 1.2260 - learning_rate: 0.0010\n",
      "Epoch 35/50\n",
      "\u001b[1m58/58\u001b[0m \u001b[32m━━━━━━━━━━━━━━━━━━━━\u001b[0m\u001b[37m\u001b[0m \u001b[1m2s\u001b[0m 42ms/step - accuracy: 0.5587 - loss: 1.1477 - val_accuracy: 0.5772 - val_loss: 1.2102 - learning_rate: 0.0010\n",
      "Epoch 36/50\n",
      "\u001b[1m58/58\u001b[0m \u001b[32m━━━━━━━━━━━━━━━━━━━━\u001b[0m\u001b[37m\u001b[0m \u001b[1m3s\u001b[0m 44ms/step - accuracy: 0.5697 - loss: 1.1173 - val_accuracy: 0.5741 - val_loss: 1.2361 - learning_rate: 0.0010\n",
      "Epoch 37/50\n",
      "\u001b[1m58/58\u001b[0m \u001b[32m━━━━━━━━━━━━━━━━━━━━\u001b[0m\u001b[37m\u001b[0m \u001b[1m3s\u001b[0m 45ms/step - accuracy: 0.5641 - loss: 1.1533 - val_accuracy: 0.5679 - val_loss: 1.2272 - learning_rate: 0.0010\n",
      "Epoch 38/50\n",
      "\u001b[1m58/58\u001b[0m \u001b[32m━━━━━━━━━━━━━━━━━━━━\u001b[0m\u001b[37m\u001b[0m \u001b[1m3s\u001b[0m 47ms/step - accuracy: 0.5517 - loss: 1.1445 - val_accuracy: 0.5849 - val_loss: 1.2118 - learning_rate: 0.0010\n",
      "Epoch 39/50\n",
      "\u001b[1m58/58\u001b[0m \u001b[32m━━━━━━━━━━━━━━━━━━━━\u001b[0m\u001b[37m\u001b[0m \u001b[1m3s\u001b[0m 46ms/step - accuracy: 0.6047 - loss: 1.0625 - val_accuracy: 0.5849 - val_loss: 1.1838 - learning_rate: 4.0000e-04\n",
      "Epoch 40/50\n",
      "\u001b[1m58/58\u001b[0m \u001b[32m━━━━━━━━━━━━━━━━━━━━\u001b[0m\u001b[37m\u001b[0m \u001b[1m3s\u001b[0m 44ms/step - accuracy: 0.6045 - loss: 1.0490 - val_accuracy: 0.5864 - val_loss: 1.1728 - learning_rate: 4.0000e-04\n",
      "Epoch 41/50\n",
      "\u001b[1m58/58\u001b[0m \u001b[32m━━━━━━━━━━━━━━━━━━━━\u001b[0m\u001b[37m\u001b[0m \u001b[1m3s\u001b[0m 43ms/step - accuracy: 0.5906 - loss: 1.0508 - val_accuracy: 0.5926 - val_loss: 1.1593 - learning_rate: 4.0000e-04\n",
      "Epoch 42/50\n",
      "\u001b[1m58/58\u001b[0m \u001b[32m━━━━━━━━━━━━━━━━━━━━\u001b[0m\u001b[37m\u001b[0m \u001b[1m2s\u001b[0m 42ms/step - accuracy: 0.6057 - loss: 1.0304 - val_accuracy: 0.5880 - val_loss: 1.1558 - learning_rate: 4.0000e-04\n",
      "Epoch 43/50\n",
      "\u001b[1m58/58\u001b[0m \u001b[32m━━━━━━━━━━━━━━━━━━━━\u001b[0m\u001b[37m\u001b[0m \u001b[1m2s\u001b[0m 43ms/step - accuracy: 0.6133 - loss: 1.0235 - val_accuracy: 0.5957 - val_loss: 1.1433 - learning_rate: 4.0000e-04\n",
      "Epoch 44/50\n",
      "\u001b[1m58/58\u001b[0m \u001b[32m━━━━━━━━━━━━━━━━━━━━\u001b[0m\u001b[37m\u001b[0m \u001b[1m2s\u001b[0m 43ms/step - accuracy: 0.6173 - loss: 0.9890 - val_accuracy: 0.5926 - val_loss: 1.1582 - learning_rate: 4.0000e-04\n",
      "Epoch 45/50\n",
      "\u001b[1m58/58\u001b[0m \u001b[32m━━━━━━━━━━━━━━━━━━━━\u001b[0m\u001b[37m\u001b[0m \u001b[1m3s\u001b[0m 45ms/step - accuracy: 0.6206 - loss: 0.9897 - val_accuracy: 0.6003 - val_loss: 1.1578 - learning_rate: 4.0000e-04\n",
      "Epoch 46/50\n",
      "\u001b[1m58/58\u001b[0m \u001b[32m━━━━━━━━━━━━━━━━━━━━\u001b[0m\u001b[37m\u001b[0m \u001b[1m2s\u001b[0m 42ms/step - accuracy: 0.6019 - loss: 1.0059 - val_accuracy: 0.5926 - val_loss: 1.1509 - learning_rate: 4.0000e-04\n",
      "Epoch 47/50\n",
      "\u001b[1m58/58\u001b[0m \u001b[32m━━━━━━━━━━━━━━━━━━━━\u001b[0m\u001b[37m\u001b[0m \u001b[1m3s\u001b[0m 42ms/step - accuracy: 0.6289 - loss: 0.9961 - val_accuracy: 0.5910 - val_loss: 1.1346 - learning_rate: 4.0000e-04\n",
      "Epoch 48/50\n",
      "\u001b[1m58/58\u001b[0m \u001b[32m━━━━━━━━━━━━━━━━━━━━\u001b[0m\u001b[37m\u001b[0m \u001b[1m3s\u001b[0m 44ms/step - accuracy: 0.6193 - loss: 0.9931 - val_accuracy: 0.6049 - val_loss: 1.1320 - learning_rate: 4.0000e-04\n",
      "Epoch 49/50\n",
      "\u001b[1m58/58\u001b[0m \u001b[32m━━━━━━━━━━━━━━━━━━━━\u001b[0m\u001b[37m\u001b[0m \u001b[1m3s\u001b[0m 43ms/step - accuracy: 0.6136 - loss: 0.9824 - val_accuracy: 0.6003 - val_loss: 1.1511 - learning_rate: 4.0000e-04\n",
      "Epoch 50/50\n",
      "\u001b[1m58/58\u001b[0m \u001b[32m━━━━━━━━━━━━━━━━━━━━\u001b[0m\u001b[37m\u001b[0m \u001b[1m3s\u001b[0m 44ms/step - accuracy: 0.6342 - loss: 0.9771 - val_accuracy: 0.6188 - val_loss: 1.1312 - learning_rate: 4.0000e-04\n"
     ]
    }
   ],
   "source": [
    "history = modelo.fit(\n",
    "    X_train, Y_train, batch_size=64, epochs=50, validation_data= (X_test,Y_test),\n",
    "    callbacks=[ReduceLROnPlateau(monitor= 'loss', factor= 0.4, patience= 2, min_lr= 0.0000001)])"
   ]
  },
  {
   "cell_type": "markdown",
   "metadata": {},
   "source": [
    "### 3.2. Avaliar e Visualizar a Performance do Modelo\n",
    "\n",
    "##### Passo 1: Avaliando o Modelo\n",
    "- **Precisão nos Dados de Teste**:\n",
    "  - Use `model.evaluate(x_test, y_test)` para calcular a precisão do modelo no conjunto de teste.\n",
    "\n",
    "##### Passo 2: Preparando os Gráficos\n",
    "- **Definindo Épocas**:\n",
    "  - Crie uma lista de épocas para o eixo x\n",
    "- **Configurando o Layout do Gráfico**:\n",
    "  - Use `fig, ax = plt.subplots(1, 2)` para criar dois gráficos lado a lado.\n",
    "\n",
    "##### Passo 3: Plotando a Perda\n",
    "- **Gráfico de Perda**:\n",
    "  - Plote a perda de treino e teste:\n",
    "    ```python\n",
    "    ax[0].plot(epochs, train_loss, label='Training Loss')\n",
    "    ax[0].plot(epochs, test_loss, label='Testing Loss')\n",
    "    ```\n",
    "\n",
    "##### Passo 4: Plotando a Precisão\n",
    "- **Gráfico de Precisão**:\n",
    "  - Plote a precisão de treino e teste:\n",
    "    ```python\n",
    "    ax[1].plot(epochs, train_acc, label='Training Accuracy')\n",
    "    ax[1].plot(epochs, test_acc, label='Testing Accuracy')\n",
    "    ```\n",
    "\n",
    "##### Objetivos:\n",
    "  - **Perda**: Ajuda a identificar se o modelo está treinando bem ou se há overfitting.\n",
    "  - **Precisão**: Mostra o quão eficaz é o treinamento do modelo em acertar as previsões.\n"
   ]
  },
  {
   "cell_type": "markdown",
   "metadata": {},
   "source": [
    "## **Funções usadas**  \n",
    "\n",
    "### **.evaluate()**: método que retorna a função de perda e a acurácia de um modelo  \n",
    "\n",
    "- Função de perda: mede o grau de \"proximidade\" dos valores preditos com os valores reais. Isso permite prever a confiabilidade de um modelo para todos os dados\n",
    "\n",
    "- **Parâmetos**: recebe o dataset de treino  \n",
    "\n",
    "- **Retorno**: loss function e metrica escolhida  \n",
    "\n",
    "### **history.history**: retorna um dicionario contendo os dados do modelo por época  \n",
    "- **Validação**: Durante o treinamento, testa-se o desempenho do modelo com dados que ele nunca viu\n",
    "- **teste**: dados separados do dataset para servir como teste de desempenho do modelo\n"
   ]
  },
  {
   "cell_type": "code",
   "execution_count": 225,
   "metadata": {},
   "outputs": [
    {
     "name": "stdout",
     "output_type": "stream",
     "text": [
      "\u001b[1m21/21\u001b[0m \u001b[32m━━━━━━━━━━━━━━━━━━━━\u001b[0m\u001b[37m\u001b[0m \u001b[1m0s\u001b[0m 5ms/step - accuracy: 0.6352 - loss: 1.1314\n"
     ]
    },
    {
     "data": {
      "text/plain": [
       "<matplotlib.legend.Legend at 0x7a6791bf25d0>"
      ]
     },
     "execution_count": 225,
     "metadata": {},
     "output_type": "execute_result"
    },
    {
     "data": {
      "text/plain": [
       "<Figure size 1500x500 with 0 Axes>"
      ]
     },
     "metadata": {},
     "output_type": "display_data"
    },
    {
     "data": {
      "image/png": "[encoded data removed]",
      "text/plain": [
       "<Figure size 1500x500 with 2 Axes>"
      ]
     },
     "metadata": {},
     "output_type": "display_data"
    }
   ],
   "source": [
    "loss, accuracy = modelo.evaluate(X_test, Y_test) # retorna a acurácia e perda geral do modelo \n",
    "\n",
    "plt.figure(figsize=(15, 5))\n",
    "\n",
    "epochs = list(range(1, 51)) # cria lista com o numero de epocas\n",
    "\n",
    "fig, ax = plt.subplots(1, 2, figsize=(15, 5))\n",
    "\n",
    "# gráficos de perda\n",
    "train_loss = history.history['loss'] # loss nos dados de treino por época\n",
    "test_loss = history.history['val_loss'] # loss nos dados de teste por época \n",
    "\n",
    "ax[0].plot(epochs, train_loss, label='Training loss')\n",
    "ax[0].plot(epochs, test_loss, label='Testing loss')\n",
    "\n",
    "ax[0].set_title('Training & test loss')\n",
    "ax[0].set_xlabel('Epochs')\n",
    "ax[0].set_ylabel('Loss')\n",
    "ax[0].legend() # adiciona legenda\n",
    "\n",
    "# gráficos de acurácia\n",
    "train_acc = history.history['accuracy'] # accuracy por epoca no treino\n",
    "teste_acc = history.history['val_accuracy'] # accuracy por epoca no teste\n",
    "\n",
    "ax[1].plot(epochs, train_acc, label='Training acuraccy')\n",
    "ax[1].plot(epochs, teste_acc, label='Testing acuraccy')\n",
    "\n",
    "ax[1].set_title('Training & test accuracy')\n",
    "ax[1].set_xlabel('Epochs')\n",
    "ax[1].set_ylabel('Accuracy')\n",
    "ax[1].legend() # adiciona legenda"
   ]
  },
  {
   "cell_type": "markdown",
   "metadata": {},
   "source": [
    "### 3.3. Chegou a parte boa! vamos prever os valores nos dados de teste\n",
    "- Passo 1: Use model.predict() no x_test e salve o resultado em pred_test.\n",
    "- Passo 2: Crie y_pred a partir de pred_test usando inverse_transform do encoder (Precisamos converter as previsões codificadas do One-Hot de volta aos rótulos originais)\n",
    "- Passo 3: Faça o mesmo para os rótulos de teste (y_test), decodificando-os de volta aos rótulos originais."
   ]
  },
  {
   "cell_type": "code",
   "execution_count": 226,
   "metadata": {},
   "outputs": [
    {
     "name": "stdout",
     "output_type": "stream",
     "text": [
      "\u001b[1m21/21\u001b[0m \u001b[32m━━━━━━━━━━━━━━━━━━━━\u001b[0m\u001b[37m\u001b[0m \u001b[1m0s\u001b[0m 7ms/step\n"
     ]
    }
   ],
   "source": [
    "pred_test = modelo.predict(X_test) # retorna um array informando as probabilidades para cada emoção\n",
    "\n",
    "y_pred = encoder.inverse_transform(pred_test)\n",
    "\n",
    "Y_test = encoder.inverse_transform(Y_test)"
   ]
  },
  {
   "cell_type": "code",
   "execution_count": 227,
   "metadata": {},
   "outputs": [
    {
     "data": {
      "text/html": [
       "<div>\n",
       "<style scoped>\n",
       "    .dataframe tbody tr th:only-of-type {\n",
       "        vertical-align: middle;\n",
       "    }\n",
       "\n",
       "    .dataframe tbody tr th {\n",
       "        vertical-align: top;\n",
       "    }\n",
       "\n",
       "    .dataframe thead th {\n",
       "        text-align: right;\n",
       "    }\n",
       "</style>\n",
       "<table border=\"1\" class=\"dataframe\">\n",
       "  <thead>\n",
       "    <tr style=\"text-align: right;\">\n",
       "      <th></th>\n",
       "      <th>Predicted Labels</th>\n",
       "      <th>Actual Labels</th>\n",
       "    </tr>\n",
       "  </thead>\n",
       "  <tbody>\n",
       "    <tr>\n",
       "      <th>0</th>\n",
       "      <td>sad</td>\n",
       "      <td>disgust</td>\n",
       "    </tr>\n",
       "    <tr>\n",
       "      <th>1</th>\n",
       "      <td>angry</td>\n",
       "      <td>angry</td>\n",
       "    </tr>\n",
       "    <tr>\n",
       "      <th>2</th>\n",
       "      <td>angry</td>\n",
       "      <td>angry</td>\n",
       "    </tr>\n",
       "    <tr>\n",
       "      <th>3</th>\n",
       "      <td>angry</td>\n",
       "      <td>angry</td>\n",
       "    </tr>\n",
       "    <tr>\n",
       "      <th>4</th>\n",
       "      <td>calm</td>\n",
       "      <td>calm</td>\n",
       "    </tr>\n",
       "    <tr>\n",
       "      <th>5</th>\n",
       "      <td>surprise</td>\n",
       "      <td>surprise</td>\n",
       "    </tr>\n",
       "    <tr>\n",
       "      <th>6</th>\n",
       "      <td>happy</td>\n",
       "      <td>happy</td>\n",
       "    </tr>\n",
       "    <tr>\n",
       "      <th>7</th>\n",
       "      <td>disgust</td>\n",
       "      <td>disgust</td>\n",
       "    </tr>\n",
       "    <tr>\n",
       "      <th>8</th>\n",
       "      <td>angry</td>\n",
       "      <td>happy</td>\n",
       "    </tr>\n",
       "    <tr>\n",
       "      <th>9</th>\n",
       "      <td>angry</td>\n",
       "      <td>angry</td>\n",
       "    </tr>\n",
       "  </tbody>\n",
       "</table>\n",
       "</div>"
      ],
      "text/plain": [
       "  Predicted Labels Actual Labels\n",
       "0              sad       disgust\n",
       "1            angry         angry\n",
       "2            angry         angry\n",
       "3            angry         angry\n",
       "4             calm          calm\n",
       "5         surprise      surprise\n",
       "6            happy         happy\n",
       "7          disgust       disgust\n",
       "8            angry         happy\n",
       "9            angry         angry"
      ]
     },
     "execution_count": 227,
     "metadata": {},
     "output_type": "execute_result"
    }
   ],
   "source": [
    "# Rode essa célula para ver se o modelo que criamos está fazendo sentido para a maioria dos valores.\n",
    "\n",
    "df = pd.DataFrame(columns=['Predicted Labels', 'Actual Labels'])\n",
    "df['Predicted Labels'] = y_pred.flatten()\n",
    "df['Actual Labels'] = Y_test.flatten()\n",
    "\n",
    "df.head(10)"
   ]
  },
  {
   "cell_type": "markdown",
   "metadata": {},
   "source": [
    "### 3.4. Plotar Matriz de Confusão\n",
    "- Agora tenho um desafio para você, eu quero que você crie uma matriz de confusão que relacione os resultados preditos com os valores reais das emoções!"
   ]
  },
  {
   "cell_type": "code",
   "execution_count": 228,
   "metadata": {},
   "outputs": [
    {
     "data": {
      "image/png": "[encoded data removed]",
      "text/plain": [
       "<Figure size 1500x800 with 2 Axes>"
      ]
     },
     "metadata": {},
     "output_type": "display_data"
    }
   ],
   "source": [
    "cm = confusion_matrix(Y_test, y_pred)\n",
    "\n",
    "emotions = df['Actual Labels'].unique() # extrai as emoções que existem no dataset\n",
    "\n",
    "plt.figure(figsize=(15,8))\n",
    "\n",
    "sns.heatmap(cm, cmap='Blues', annot=True, linewidths=1, fmt='d', xticklabels=emotion, yticklabels=emotions)\n",
    "plt.show()"
   ]
  },
  {
   "cell_type": "code",
   "execution_count": 229,
   "metadata": {},
   "outputs": [
    {
     "name": "stdout",
     "output_type": "stream",
     "text": [
      "              precision    recall  f1-score     support\n",
      "angry          0.727273  0.602151  0.658824   93.000000\n",
      "calm           0.767442  0.814815  0.790419   81.000000\n",
      "disgust        0.488095  0.493976  0.491018   83.000000\n",
      "fear           0.607143  0.573034  0.589595   89.000000\n",
      "happy          0.494949  0.563218  0.526882   87.000000\n",
      "neutral        0.500000  0.463415  0.481013   41.000000\n",
      "sad            0.555556  0.555556  0.555556   81.000000\n",
      "surprise       0.747475  0.795699  0.770833   93.000000\n",
      "accuracy       0.618827  0.618827  0.618827    0.618827\n",
      "macro avg      0.610992  0.607733  0.608017  648.000000\n",
      "weighted avg   0.621022  0.618827  0.618473  648.000000\n"
     ]
    }
   ],
   "source": [
    "# Use a função classification_report do sklearn para visualizar a precisão, recall e f1-score do modelo.\n",
    "d = classification_report(Y_test, y_pred, output_dict=True) # retorna um dicionário \n",
    "\n",
    "d = pd.DataFrame(d).transpose() # transforma o dicionário em um dataset e transposta as linhas pelas colunas\n",
    "\n",
    "print(d)"
   ]
  },
  {
   "cell_type": "markdown",
   "metadata": {},
   "source": [
    "### 4. Conclusão\n",
    "- Podemos ver que nosso modelo é mais preciso na predição das emoções surpresa e raiva, o que faz sentido, pois os arquivos de áudio dessas emoções diferem bastante dos outros em aspectos como tom, velocidade, etc.\n",
    "- No geral, alcançamos 62% de precisão nos dados de teste, o que é razoável, mas podemos melhorar ainda mais aplicando mais técnicas de aumento de dados e utilizando outros métodos de extração de features."
   ]
  },
  {
   "cell_type": "markdown",
   "metadata": {},
   "source": [
    "### 5. Salvando o Modelo e o Scaler"
   ]
  },
  {
   "cell_type": "markdown",
   "metadata": {},
   "source": [
    "##### Passo 1: Salvando o Modelo\n",
    "1. **Importação:** Use o `load_model` do Keras.\n",
    "2. **Diretório:** Crie um diretório chamado `models` se não existir.\n",
    "3. **Salvar:** Salve o modelo como no caminho especificado.\n",
    "\n",
    "##### Passo 2: Salvando o Scaler\n",
    "1. **Importação:** Use `joblib`.\n",
    "2. **Diretório:** Utilize o mesmo caminho `models`.\n",
    "3. **Salvar:** Salve o scaler."
   ]
  },
  {
   "cell_type": "code",
   "execution_count": 230,
   "metadata": {},
   "outputs": [
    {
     "name": "stdout",
     "output_type": "stream",
     "text": [
      "Modelo salvo em /home/vinicius/Desktop/miniprojeto2/models/audio_emotions_modelo.keras\n"
     ]
    }
   ],
   "source": [
    "data_dir = os.path.join(os.path.dirname(os.getcwd()), \"models\") \n",
    "os.makedirs(data_dir, exist_ok=True) # cria a pasta models se nao existir\n",
    "\n",
    "pathModel = os.path.join(data_dir, 'audio_emotions_modelo.keras')\n",
    "modelo.save(pathModel)\n",
    "\n",
    "print(f'Modelo salvo em {pathModel}')"
   ]
  },
  {
   "cell_type": "code",
   "execution_count": 231,
   "metadata": {},
   "outputs": [
    {
     "name": "stdout",
     "output_type": "stream",
     "text": [
      "Arquivo salvo em /home/vinicius/Desktop/miniprojeto2/models/scaler.pkl\n"
     ]
    }
   ],
   "source": [
    "import joblib\n",
    "\n",
    "data_dir = os.path.join(os.path.dirname(os.getcwd()), \"models\")\n",
    "os.makedirs(data_dir, exist_ok=True)\n",
    "\n",
    "pathScaler = os.path.join(data_dir, \"scaler.pkl\")\n",
    "\n",
    "joblib.dump(sc, pathScaler)\n",
    "\n",
    "print(f'Arquivo salvo em {pathScaler}')"
   ]
  }
 ],
 "metadata": {
  "kernelspec": {
   "display_name": "venv",
   "language": "python",
   "name": "python3"
  },
  "language_info": {
   "codemirror_mode": {
    "name": "ipython",
    "version": 3
   },
   "file_extension": ".py",
   "mimetype": "text/x-python",
   "name": "python",
   "nbconvert_exporter": "python",
   "pygments_lexer": "ipython3",
   "version": "3.12.3"
  }
 },
 "nbformat": 4,
 "nbformat_minor": 4
}
